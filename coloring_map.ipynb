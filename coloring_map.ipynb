{
  "nbformat": 4,
  "nbformat_minor": 0,
  "metadata": {
    "colab": {
      "provenance": [],
      "authorship_tag": "ABX9TyMjcIyOC3c7Yos3iQ8tTvsV",
      "include_colab_link": true
    },
    "kernelspec": {
      "name": "python3",
      "display_name": "Python 3"
    },
    "language_info": {
      "name": "python"
    }
  },
  "cells": [
    {
      "cell_type": "markdown",
      "metadata": {
        "id": "view-in-github",
        "colab_type": "text"
      },
      "source": [
        "<a href=\"https://colab.research.google.com/github/AayeshaIslam/Where-s-My-Water/blob/colorAI/coloring_map.ipynb\" target=\"_parent\"><img src=\"https://colab.research.google.com/assets/colab-badge.svg\" alt=\"Open In Colab\"/></a>"
      ]
    },
    {
      "cell_type": "code",
      "execution_count": 4,
      "metadata": {
        "id": "QCClhKgNh8SV",
        "colab": {
          "base_uri": "https://localhost:8080/"
        },
        "outputId": "1f3d4dac-8f69-4b44-8974-0d04b57151d4"
      },
      "outputs": [
        {
          "output_type": "stream",
          "name": "stdout",
          "text": [
            "Requirement already satisfied: flask-ngrok in /usr/local/lib/python3.10/dist-packages (0.0.25)\n",
            "Requirement already satisfied: Flask>=0.8 in /usr/local/lib/python3.10/dist-packages (from flask-ngrok) (2.2.5)\n",
            "Requirement already satisfied: requests in /usr/local/lib/python3.10/dist-packages (from flask-ngrok) (2.31.0)\n",
            "Requirement already satisfied: Werkzeug>=2.2.2 in /usr/local/lib/python3.10/dist-packages (from Flask>=0.8->flask-ngrok) (3.0.0)\n",
            "Requirement already satisfied: Jinja2>=3.0 in /usr/local/lib/python3.10/dist-packages (from Flask>=0.8->flask-ngrok) (3.1.2)\n",
            "Requirement already satisfied: itsdangerous>=2.0 in /usr/local/lib/python3.10/dist-packages (from Flask>=0.8->flask-ngrok) (2.1.2)\n",
            "Requirement already satisfied: click>=8.0 in /usr/local/lib/python3.10/dist-packages (from Flask>=0.8->flask-ngrok) (8.1.7)\n",
            "Requirement already satisfied: charset-normalizer<4,>=2 in /usr/local/lib/python3.10/dist-packages (from requests->flask-ngrok) (3.3.0)\n",
            "Requirement already satisfied: idna<4,>=2.5 in /usr/local/lib/python3.10/dist-packages (from requests->flask-ngrok) (3.4)\n",
            "Requirement already satisfied: urllib3<3,>=1.21.1 in /usr/local/lib/python3.10/dist-packages (from requests->flask-ngrok) (2.0.6)\n",
            "Requirement already satisfied: certifi>=2017.4.17 in /usr/local/lib/python3.10/dist-packages (from requests->flask-ngrok) (2023.7.22)\n",
            "Requirement already satisfied: MarkupSafe>=2.0 in /usr/local/lib/python3.10/dist-packages (from Jinja2>=3.0->Flask>=0.8->flask-ngrok) (2.1.3)\n",
            "\u001b[31mERROR: Operation cancelled by user\u001b[0m\u001b[31m\n",
            "\u001b[0mAuthtoken saved to configuration file: /root/.ngrok2/ngrok.yml\n"
          ]
        }
      ],
      "source": [
        "!pip install flask-ngrok\n",
        "!pip install pyngrok==4.1.1\n",
        "!ngrok authtoken 2WoOGJsM1c0FNpbt8kWx7aV4RVq_5MaRZ2VEdPkDepBvfUvfT\n"
      ]
    },
    {
      "cell_type": "code",
      "source": [
        "#Import earth engine\n",
        "import ee\n",
        "\n",
        "# Trigger the authentication flow.\n",
        "ee.Authenticate()\n",
        "\n",
        "# Initialize the library.\n",
        "ee.Initialize()\n",
        "import folium\n",
        "from flask import Flask\n",
        "from flask import Flask, render_template, request\n",
        "from flask_ngrok import run_with_ngrok\n",
        "from flask import Flask, render_template_string\n",
        "from PIL import Image\n",
        "import io\n",
        "app = Flask(__name__)\n",
        "run_with_ngrok(app)\n",
        "\n",
        "# Define a method for displaying Earth Engine image tiles to folium map.\n",
        "def add_ee_layer(self, ee_image_object, vis_params, name):\n",
        "  map_id_dict = ee.Image(ee_image_object).getMapId(vis_params)\n",
        "  folium.raster_layers.TileLayer(\n",
        "    tiles = map_id_dict['tile_fetcher'].url_format,\n",
        "    attr = 'Map Data &copy; <a href=\"https://earthengine.google.com/\">Google Earth Engine</a>',\n",
        "    name = name,\n",
        "    overlay = True,\n",
        "    control = True\n",
        "  ).add_to(self)\n",
        "\n",
        "# Display the map.\n",
        "#display(my_map)\n",
        "@app.route('/', methods=['GET', 'POST'])\n",
        "def home():\n",
        "    dataset = ee.Image('USGS/NLCD/NLCD2016')\n",
        "    landcover = ee.Image(dataset.select('landcover'))\n",
        "    groundwater_prediction = -300\n",
        "    blue = ['00FFFF', '0000FF']\n",
        "    green = ['008000','90EE90']\n",
        "    red = ['FF0000', 'FFA500']\n",
        "\n",
        "\n",
        "    state_geometry = ee.FeatureCollection('TIGER/2018/States') \\\n",
        "        .filter(ee.Filter.eq('STUSPS', 'FL')) \\\n",
        "        .geometry()\n",
        "    # Filter the land cover data for the state.\n",
        "    landcover_for_state = landcover.clip(state_geometry)\n",
        "    if groundwater_prediction > - 50:\n",
        "      pal = blue\n",
        "    elif -120 <= groundwater_prediction <= -51:\n",
        "      pal = green\n",
        "    else:\n",
        "      pal=red\n",
        "\n",
        "    ndwi_viz = {\n",
        "        'min': 0,  # Adjust the 'min' value to make water areas more visible.\n",
        "        'max': 90,   # Adjust the 'max' value to make land areas more visible.\n",
        "        'palette': pal  # Customize the color palette.\n",
        "    }\n",
        "\n",
        "\n",
        "    # Add EE drawing method to folium.\n",
        "    folium.Map.add_ee_layer = add_ee_layer\n",
        "\n",
        "    # Create a folium map object.\n",
        "    my_map = folium.Map(location=[37.649, -99.844], zoom_start = 4)\n",
        "\n",
        "    # Add the layer to the map object.\n",
        "\n",
        "\n",
        "    # Add a layer control panel to the map.\n",
        "\n",
        "\n",
        "    #new code\n",
        "    # Add EE drawing method to folium.\n",
        "    folium.Map.add_ee_layer = add_ee_layer\n",
        "\n",
        "    # Create a folium map object.\n",
        "    my_map = folium.Map(location=[39, -101], zoom_start = 6)\n",
        "\n",
        "    # Add the layer to the map object.\n",
        "    my_map.add_ee_layer(landcover_for_state, ndwi_viz, 'Landcover')\n",
        "\n",
        "    # Add a layer control panel to the map.\n",
        "    my_map.add_child(folium.LayerControl())\n",
        "\n",
        "\n",
        "\n",
        "    #Do not add anything for the map ater this point\n",
        "    my_map.get_root().render()\n",
        "\n",
        "    #derive the script and style tags to be rendered in HTML head\n",
        "    header = my_map.get_root().header.render()\n",
        "\n",
        "    body_html = my_map.get_root().html.render()\n",
        "\n",
        "    script = my_map.get_root().script.render()\n",
        "\n",
        "    # Create a folium map object.\n",
        "    my_second_map = folium.Map(location=[37.649, -99.844], zoom_start = 4)\n",
        "    #Do not add anything for the map ater this point\n",
        "    my_second_map.get_root().render()\n",
        "\n",
        "    #derive the script and style tags to be rendered in HTML head\n",
        "    header2 = my_second_map.get_root().header.render()\n",
        "\n",
        "    body_html2 = my_second_map.get_root().html.render()\n",
        "\n",
        "    script2 = my_second_map.get_root().script.render()\n",
        "\n",
        "    info = None\n",
        "    if request.method=='POST':\n",
        "      year = request.form['year']\n",
        "      state= request.form['state']\n",
        "      #info = ai_implement(year, state)\n",
        "\n",
        "     # print(info)\n",
        "\n",
        "\n",
        "    return render_template_string(\"\"\"\n",
        "           <!DOCTYPE html>\n",
        "            <html>\n",
        "                <head>\n",
        "                    {{ header|safe }}\n",
        "                </head>\n",
        "                <body class=\"bg-info text-white\">\n",
        "                <div class=\"text-center\">\n",
        "                    <h1 class=\"mt-5\"><b>Where's My Water?</b></h1>\n",
        "                    <form action=\"/\" method=\"post\">\n",
        "                      <input type=\"text\" id=\"year\" name=\"year\" placeholder=\"Year\">\n",
        "                    </form>\n",
        "                </div>\n",
        "                    {{ body_html|safe }}\n",
        "\n",
        "                    <h3>This map is embeded in a flask server web page !</h3>\n",
        "                    <script>\n",
        "                        {{ script|safe }}\n",
        "                    </script>\n",
        "\n",
        "                </body>\n",
        "            </html>\n",
        "        \"\"\",\n",
        "        header=header,\n",
        "        body_html=body_html,\n",
        "        script=script, )\n",
        "\n",
        "app.run()"
      ],
      "metadata": {
        "colab": {
          "base_uri": "https://localhost:8080/"
        },
        "id": "Jgvz8lOniLGV",
        "outputId": "0998acbe-8858-4aaa-88e8-9a443afbde69"
      },
      "execution_count": null,
      "outputs": [
        {
          "output_type": "stream",
          "name": "stdout",
          "text": [
            "To authorize access needed by Earth Engine, open the following URL in a web browser and follow the instructions. If the web browser does not start automatically, please manually browse the URL below.\n",
            "\n",
            "    https://code.earthengine.google.com/client-auth?scopes=https%3A//www.googleapis.com/auth/earthengine%20https%3A//www.googleapis.com/auth/devstorage.full_control&request_id=-7LWu7RgffH6NQeKzXo5LP9Z90JTst0O0UBtcLNf2lc&tc=UoHrlaDv_sx-6MrcAflgSZEGa3PCS1887SBYIE0qxew&cc=l1sSt6WEcScy0IUKt1evjIrJnxeofa0RLRZ2VEIPTbQ\n",
            "\n",
            "The authorization workflow will generate a code, which you should paste in the box below.\n",
            "Enter verification code: 4/1AfJohXlOgRrrKUFM0WnhrKLWkRMX7NhlP7ltmTKPJfcBozoHHpxgfJJ7Ih4\n",
            "\n",
            "Successfully saved authorization token.\n",
            " * Serving Flask app '__main__'\n",
            " * Debug mode: off\n"
          ]
        },
        {
          "output_type": "stream",
          "name": "stderr",
          "text": [
            "INFO:werkzeug:\u001b[31m\u001b[1mWARNING: This is a development server. Do not use it in a production deployment. Use a production WSGI server instead.\u001b[0m\n",
            " * Running on http://127.0.0.1:5000\n",
            "INFO:werkzeug:\u001b[33mPress CTRL+C to quit\u001b[0m\n"
          ]
        },
        {
          "output_type": "stream",
          "name": "stdout",
          "text": [
            " * Running on http://4e3b-35-201-252-33.ngrok-free.app\n",
            " * Traffic stats available on http://127.0.0.1:4040\n"
          ]
        },
        {
          "output_type": "stream",
          "name": "stderr",
          "text": [
            "INFO:werkzeug:127.0.0.1 - - [15/Oct/2023 19:23:32] \"GET / HTTP/1.1\" 200 -\n",
            "INFO:werkzeug:127.0.0.1 - - [15/Oct/2023 19:23:35] \"\u001b[33mGET /favicon.ico HTTP/1.1\u001b[0m\" 404 -\n"
          ]
        }
      ]
    }
  ]
}